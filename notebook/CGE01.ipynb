{
 "cells": [
  {
   "cell_type": "markdown",
   "id": "1689e0ab",
   "metadata": {},
   "source": [
    "#  A Simple CGE Model with two sectors and no intermediate input"
   ]
  },
  {
   "cell_type": "code",
   "execution_count": null,
   "metadata": {},
   "outputs": [],
   "source": [
    "using JuMP, Complementarity, DataFrames, PATHSolver, GAMS\n",
    "PATHSolver.c_api_License_SetString(\"2830898829&Courtesy&&&USR&45321&5_1_2021&1000&PATH&GEN&31_12_2025&0_0_0&6000&0_0\")"
   ]
  },
  {
   "cell_type": "code",
   "execution_count": null,
   "id": "887b270e",
   "metadata": {},
   "outputs": [],
   "source": [
    "sec = [\"sec1\", \"sec2\"]\n",
    "sc = [1, 2]\n",
    "sam = [\n",
    "    missing missing missing missing 12      12\n",
    "    missing missing missing missing 21      21\n",
    "    9       7       missing missing missing 16\n",
    "    3       14      missing missing missing 17\n",
    "    missing missing 16      17      missing 33\n",
    "    12      21      16      17      33      missing\n",
    "]\n",
    "samList = [\"sec1\", \"sec2\", \"lab\", \"cap\", \"hh\", \"total\"]"
   ]
  },
  {
   "cell_type": "code",
   "execution_count": null,
   "id": "f0fa9d72",
   "metadata": {},
   "outputs": [],
   "source": [
    "Q0 = sam[6, 1:2]\n",
    "P0 = [1, 1]\n",
    "LD0 = sam[3, 1:2]\n",
    "KD0 = sam[4, 1:2]\n",
    "LS = sum(LD0)[1]\n",
    "KS = sum(KD0)[1]\n",
    "WL0 = 1\n",
    "WK0 = 1\n",
    "QH0 = sam[1:2, 5]\n",
    "Y0 = WL0 * LS + WK0 * KS\n",
    "rho = 0.75"
   ]
  },
  {
   "cell_type": "code",
   "execution_count": null,
   "id": "d775f771",
   "metadata": {},
   "outputs": [],
   "source": [
    "# 校准生产函数参数\n",
    "al = LD0 ./ (LD0 + KD0)\n",
    "ak = KD0 ./ (LD0 + KD0)\n",
    "alphah = P0 .* QH0 / Y0"
   ]
  },
  {
   "cell_type": "markdown",
   "id": "7e4736bc",
   "metadata": {},
   "source": [
    "# 3. Generate CGE Model"
   ]
  },
  {
   "cell_type": "code",
   "execution_count": null,
   "id": "ba11c424",
   "metadata": {},
   "outputs": [],
   "source": [
    "function solve_cge()\n",
    "    m = MCPModel()\n",
    "\n",
    "    # set_optimizer_attribute(m, GAMS.ModelType(), \"MCP\")\n",
    "    # set_optimizer_attribute(m, \"PATH\")\n",
    "\n",
    "\n",
    "    @variables m begin\n",
    "        P[i = sc], (start = P0[i])\n",
    "        WK, (start = WK0) \n",
    "        WL, (start = WL0)\n",
    "        Q[i = sc], (start = Q0[i])\n",
    "        LD[i = sc], (start = LD0[i])\n",
    "        KD[i = sc], (start = KD0[i])\n",
    "        Y, (start = Y0)\n",
    "        QH[i = sc], (start = QH0[i])\n",
    "    end\n",
    "\n",
    "    fix(WK, 1.0)\n",
    "    # production function - CES\n",
    "    @mapping(m, eqL[i in sc], LD[i] * WL ^ rho - al[i] * Q[i] * P[i] ^ rho)\n",
    "    @complementarity(m, eqL, LD)\n",
    "\n",
    "    @mapping(m, eqK[i in sc], KD[i] * WK ^ rho - ak[i] * Q[i] * P[i] ^ rho)\n",
    "    @complementarity(m, eqK, KD)\n",
    "\n",
    "    @mapping(m, eqP[i in sc], al[i] * WL ^ (1 - rho) + ak[i] * WK ^ (1 - rho) - P[i] ^ (1 - rho))\n",
    "    @complementarity(m, eqP, P)\n",
    "\n",
    "    # income distribution\n",
    "    @mapping(m, eqY, Y - (WL * LS + WK * KS))\n",
    "    @complementarity(m, eqY, Y)\n",
    "\n",
    "    # consumption structure\n",
    "    @mapping(m, eqQH[i in sc], alphah[i] * Y - P[i] * QH[i])\n",
    "    @complementarity(m, eqQH, QH)\n",
    "\n",
    "    # market clearance: goods, production factors\n",
    "    @mapping(m, eqQ[i in sc], Q[i] - QH[i])\n",
    "    @complementarity(m, eqQ, Q)\n",
    "\n",
    "    @mapping(m, eqWK, KS - sum(KD[i] for i in sc))\n",
    "    @complementarity(m, eqWK, WK)\n",
    "\n",
    "    @mapping(m, eqWL, LS - sum(LD[i] for i in sc))\n",
    "    @complementarity(m, eqWL, WL)\n",
    "\n",
    "    # Model Solver\n",
    "    status = solveMCP(m; convergence_tolerance=1e-8, output=\"yes\", time_limit=3000)\n",
    "    @show result_value.(WL)\n",
    "end"
   ]
  },
  {
   "cell_type": "code",
   "execution_count": null,
   "id": "686be546",
   "metadata": {},
   "outputs": [],
   "source": [
    "solve_cge()"
   ]
  },
  {
   "cell_type": "markdown",
   "id": "3ea9f7ed",
   "metadata": {},
   "source": [
    "# second experiment by adjusting the supply of labor and capital"
   ]
  },
  {
   "cell_type": "code",
   "execution_count": null,
   "id": "7a3a3689",
   "metadata": {},
   "outputs": [],
   "source": [
    "LS = sum(LD0) * 2\n",
    "solve_cge()"
   ]
  }
 ],
 "metadata": {
  "kernelspec": {
   "display_name": "Julia 1.9.4",
   "language": "julia",
   "name": "julia-1.9"
  },
  "language_info": {
   "file_extension": ".jl",
   "mimetype": "application/julia",
   "name": "julia",
   "version": "1.9.4"
  },
  "toc": {
   "base_numbering": 1,
   "nav_menu": {},
   "number_sections": true,
   "sideBar": true,
   "skip_h1_title": false,
   "title_cell": "Table of Contents",
   "title_sidebar": "Contents",
   "toc_cell": false,
   "toc_position": {
    "height": "calc(100% - 180px)",
    "left": "10px",
    "top": "150px",
    "width": "185px"
   },
   "toc_section_display": true,
   "toc_window_display": true
  },
  "vscode": {
   "interpreter": {
    "hash": "bbf25602a3d8795db9f3a468a9130adfcace0885c5d3e34b41391447488e8ce4"
   }
  }
 },
 "nbformat": 4,
 "nbformat_minor": 5
}
