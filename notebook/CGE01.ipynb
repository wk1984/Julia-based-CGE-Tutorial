{
 "cells": [
  {
   "cell_type": "markdown",
   "id": "1689e0ab",
   "metadata": {},
   "source": [
    "#  A Simple CGE Model with two sectors and no intermediate input"
   ]
  },
  {
   "cell_type": "code",
   "execution_count": 1,
   "metadata": {},
   "outputs": [
    {
     "data": {
      "text/plain": [
       "1"
      ]
     },
     "metadata": {},
     "output_type": "display_data"
    }
   ],
   "source": [
    "using JuMP, Complementarity, DataFrames, PATHSolver\n",
    "PATHSolver.c_api_License_SetString(\"2830898829&Courtesy&&&USR&45321&5_1_2021&1000&PATH&GEN&31_12_2025&0_0_0&6000&0_0\")"
   ]
  },
  {
   "cell_type": "code",
   "execution_count": 2,
   "id": "887b270e",
   "metadata": {},
   "outputs": [
    {
     "data": {
      "text/plain": [
       "6-element Vector{String}:\n",
       " \"sec1\"\n",
       " \"sec2\"\n",
       " \"lab\"\n",
       " \"cap\"\n",
       " \"hh\"\n",
       " \"total\""
      ]
     },
     "metadata": {},
     "output_type": "display_data"
    }
   ],
   "source": [
    "sec = [\"sec1\", \"sec2\"]\n",
    "sc = [1, 2]\n",
    "sam = [\n",
    "    missing missing missing missing 12      12\n",
    "    missing missing missing missing 21      21\n",
    "    9       7       missing missing missing 16\n",
    "    3       14      missing missing missing 17\n",
    "    missing missing 16      17      missing 33\n",
    "    12      21      16      17      33      missing\n",
    "]\n",
    "samList = [\"sec1\", \"sec2\", \"lab\", \"cap\", \"hh\", \"total\"]"
   ]
  },
  {
   "cell_type": "code",
   "execution_count": 3,
   "id": "f0fa9d72",
   "metadata": {},
   "outputs": [
    {
     "data": {
      "text/plain": [
       "0.75"
      ]
     },
     "metadata": {},
     "output_type": "display_data"
    }
   ],
   "source": [
    "Q0 = sam[6, 1:2]\n",
    "P0 = [1, 1]\n",
    "LD0 = sam[3, 1:2]\n",
    "KD0 = sam[4, 1:2]\n",
    "LS = sum(LD0)[1]\n",
    "KS = sum(KD0)[1]\n",
    "WL0 = 1\n",
    "WK0 = 1\n",
    "QH0 = sam[1:2, 5]\n",
    "Y0 = WL0 * LS + WK0 * KS\n",
    "rho = 0.75"
   ]
  },
  {
   "cell_type": "code",
   "execution_count": 4,
   "id": "d775f771",
   "metadata": {},
   "outputs": [
    {
     "data": {
      "text/plain": [
       "2-element Vector{Float64}:\n",
       " 0.36363636363636365\n",
       " 0.6363636363636364"
      ]
     },
     "metadata": {},
     "output_type": "display_data"
    }
   ],
   "source": [
    "# 校准生产函数参数\n",
    "al = LD0 ./ (LD0 + KD0)\n",
    "ak = KD0 ./ (LD0 + KD0)\n",
    "alphah = P0 .* QH0 / Y0"
   ]
  },
  {
   "cell_type": "markdown",
   "id": "7e4736bc",
   "metadata": {},
   "source": [
    "# 3. Generate CGE Model"
   ]
  },
  {
   "cell_type": "code",
   "execution_count": 5,
   "id": "ba11c424",
   "metadata": {},
   "outputs": [
    {
     "data": {
      "text/plain": [
       "solve_cge (generic function with 1 method)"
      ]
     },
     "metadata": {},
     "output_type": "display_data"
    }
   ],
   "source": [
    "function solve_cge()\n",
    "    m = MCPModel()\n",
    "\n",
    "    # set_optimizer_attribute(m, GAMS.ModelType(), \"MCP\")\n",
    "\n",
    "    @variables m begin\n",
    "        P[i = sc], (start = P0[i])\n",
    "        WK, (start = WK0) \n",
    "        WL, (start = WL0)\n",
    "        Q[i = sc], (start = Q0[i])\n",
    "        LD[i = sc], (start = LD0[i])\n",
    "        KD[i = sc], (start = KD0[i])\n",
    "        Y, (start = Y0)\n",
    "        QH[i = sc], (start = QH0[i])\n",
    "    end\n",
    "\n",
    "    fix(WK, 1.0)\n",
    "    # production function - CES\n",
    "    @mapping(m, eqL[i in sc], LD[i] * WL ^ rho - al[i] * Q[i] * P[i] ^ rho)\n",
    "    @complementarity(m, eqL, LD)\n",
    "\n",
    "    @mapping(m, eqK[i in sc], KD[i] * WK ^ rho - ak[i] * Q[i] * P[i] ^ rho)\n",
    "    @complementarity(m, eqK, KD)\n",
    "\n",
    "    @mapping(m, eqP[i in sc], al[i] * WL ^ (1 - rho) + ak[i] * WK ^ (1 - rho) - P[i] ^ (1 - rho))\n",
    "    @complementarity(m, eqP, P)\n",
    "\n",
    "    # income distribution\n",
    "    @mapping(m, eqY, Y - (WL * LS + WK * KS))\n",
    "    @complementarity(m, eqY, Y)\n",
    "\n",
    "    # consumption structure\n",
    "    @mapping(m, eqQH[i in sc], alphah[i] * Y - P[i] * QH[i])\n",
    "    @complementarity(m, eqQH, QH)\n",
    "\n",
    "    # market clearance: goods, production factors\n",
    "    @mapping(m, eqQ[i in sc], Q[i] - QH[i])\n",
    "    @complementarity(m, eqQ, Q)\n",
    "\n",
    "    @mapping(m, eqWK, KS - sum(KD[i] for i in sc))\n",
    "    @complementarity(m, eqWK, WK)\n",
    "\n",
    "    @mapping(m, eqWL, LS - sum(LD[i] for i in sc))\n",
    "    @complementarity(m, eqWL, WL)\n",
    "\n",
    "    # Model Solver\n",
    "    status = solveMCP(m; convergence_tolerance=1e-8, output=\"yes\", time_limit=3000)\n",
    "    @show result_value.(WL)\n",
    "end"
   ]
  },
  {
   "cell_type": "code",
   "execution_count": 6,
   "id": "686be546",
   "metadata": {},
   "outputs": [
    {
     "name": "stdout",
     "output_type": "stream",
     "text": [
      "Reading options file /var/folders/0g/kx5tp84d27bbb7cl7_cx9_hm0000gn/T/jl_hiB7fU\n",
      " > convergence_tolerance 1.0e-8\n",
      " > output yes\n",
      " > time_limit 3000\n",
      "Read of options file complete.\n",
      "\n",
      "Path 5.0.03 (Fri Jun 26 09:58:07 2020)\n",
      "Written by Todd Munson, Steven Dirkse, Youngdae Kim, and Michael Ferris\n",
      "Preprocessed size   : 12\n",
      "\n",
      "Crash Log\n",
      "major  func  diff  size  residual    step       prox   (label)\n",
      "    0     0             0.0000e+00             0.0e+00 (eqP[1])\n",
      "\n",
      "Major Iteration Log\n",
      "major minor  func  grad  residual    step  type prox    inorm  (label)\n",
      "    0     0     1     1 0.0000e+00           I 0.0e+00 0.0e+00 (eqP[1])\n",
      "\n",
      "Major Iterations. . . . 0\n",
      "Minor Iterations. . . . 0\n",
      "Restarts. . . . . . . . 0\n",
      "Crash Iterations. . . . 0\n",
      "Gradient Steps. . . . . 0\n",
      "Function Evaluations. . 1\n",
      "Gradient Evaluations. . 1\n",
      "Basis Time. . . . . . . 0.000003\n",
      "Total Time. . . . . . . 0.048750\n",
      "Residual. . . . . . . . 0.000000e+00\n",
      "Postsolved residual: 0.0000e+00\n",
      "result_value.(WL) = 1.0\n"
     ]
    },
    {
     "data": {
      "text/plain": [
       "1.0"
      ]
     },
     "metadata": {},
     "output_type": "display_data"
    }
   ],
   "source": [
    "solve_cge()"
   ]
  },
  {
   "cell_type": "markdown",
   "id": "3ea9f7ed",
   "metadata": {},
   "source": [
    "# second experiment by adjusting the supply of labor and capital"
   ]
  },
  {
   "cell_type": "code",
   "execution_count": 7,
   "id": "7a3a3689",
   "metadata": {},
   "outputs": [
    {
     "name": "stdout",
     "output_type": "stream",
     "text": [
      "Reading options file /var/folders/0g/kx5tp84d27bbb7cl7_cx9_hm0000gn/T/jl_CPLTbJ\n",
      " > convergence_tolerance 1.0e-8\n",
      " > output yes\n",
      " > time_limit 3000\n",
      "Read of options file complete.\n",
      "\n",
      "Path 5.0.03 (Fri Jun 26 09:58:07 2020)\n",
      "Written by Todd Munson, Steven Dirkse, Youngdae Kim, and Michael Ferris\n",
      "Preprocessed size   : 12\n",
      "\n",
      "Crash Log\n",
      "major  func  diff  size  residual    step       prox   (label)\n",
      "    0     0             2.2627e+01             0.0e+00 (eqWL)\n",
      "    1     6     0    12 2.0316e+01  1.7e-01    0.0e+00 (eqWL)\n",
      "pn_search terminated: no basis change.\n",
      "\n",
      "Major Iteration Log\n",
      "major minor  func  grad  residual    step  type prox    inorm  (label)\n",
      "    0     0     7     2 2.0316e+01           I 0.0e+00 1.3e+01 (eqWL)\n",
      "    1     1    16     3 2.2591e+01  2.3e-02 SB 0.0e+00 1.3e+01 (eqWL)\n",
      "    2     1    17     4 5.5091e+00  1.0e+00 SO 0.0e+00 3.7e+00 (eqQH[1])\n",
      "    3     1    18     5 5.4552e+00  1.0e+00 SO 0.0e+00 3.1e+00 (eqL[1])\n",
      "    4     1    19     6 1.9489e+00  1.0e+00 SO 0.0e+00 1.1e+00 (eqQH[2])\n",
      "    5     1    20     7 4.2132e-02  1.0e+00 SO 0.0e+00 3.1e-02 (eqL[2])\n",
      "    6     1    21     8 1.4597e-05  1.0e+00 SO 0.0e+00 1.0e-05 (eqL[2])\n",
      "    7     1    22     9 1.2267e-12  1.0e+00 SO 0.0e+00 8.8e-13 (eqL[2])\n",
      "\n",
      "Major Iterations. . . . 7\n",
      "Minor Iterations. . . . 7\n",
      "Restarts. . . . . . . . 0\n",
      "Crash Iterations. . . . 1\n",
      "Gradient Steps. . . . . 0\n",
      "Function Evaluations. . 22\n",
      "Gradient Evaluations. . 9\n",
      "Basis Time. . . . . . . 0.000174\n",
      "Total Time. . . . . . . 0.006418\n",
      "Residual. . . . . . . . 1.226749e-12\n",
      "Postsolved residual: 1.2267e-12\n",
      "result_value.(WL) = 0.41628360784400903\n"
     ]
    },
    {
     "data": {
      "text/plain": [
       "0.41628360784400903"
      ]
     },
     "metadata": {},
     "output_type": "display_data"
    }
   ],
   "source": [
    "LS = sum(LD0) * 2\n",
    "solve_cge()"
   ]
  }
 ],
 "metadata": {
  "kernelspec": {
   "display_name": "Julia 1.9.4",
   "language": "julia",
   "name": "julia-1.9"
  },
  "language_info": {
   "file_extension": ".jl",
   "mimetype": "application/julia",
   "name": "julia",
   "version": "1.9.4"
  },
  "toc": {
   "base_numbering": 1,
   "nav_menu": {},
   "number_sections": true,
   "sideBar": true,
   "skip_h1_title": false,
   "title_cell": "Table of Contents",
   "title_sidebar": "Contents",
   "toc_cell": false,
   "toc_position": {
    "height": "calc(100% - 180px)",
    "left": "10px",
    "top": "150px",
    "width": "185px"
   },
   "toc_section_display": true,
   "toc_window_display": true
  },
  "vscode": {
   "interpreter": {
    "hash": "bbf25602a3d8795db9f3a468a9130adfcace0885c5d3e34b41391447488e8ce4"
   }
  }
 },
 "nbformat": 4,
 "nbformat_minor": 5
}
