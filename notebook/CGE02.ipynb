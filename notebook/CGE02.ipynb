{
 "cells": [
  {
   "cell_type": "markdown",
   "id": "1689e0ab",
   "metadata": {},
   "source": [
    "#  A Simple CGE Model with two sectors and no intermediate input"
   ]
  },
  {
   "cell_type": "code",
   "execution_count": null,
   "metadata": {},
   "outputs": [],
   "source": [
    "using JuMP, Complementarity, DataFrames, PATHSolver\n",
    "PATHSolver.c_api_License_SetString(\"2830898829&Courtesy&&&USR&45321&5_1_2021&1000&PATH&GEN&31_12_2025&0_0_0&6000&0_0\")"
   ]
  },
  {
   "cell_type": "code",
   "execution_count": null,
   "id": "887b270e",
   "metadata": {},
   "outputs": [],
   "source": [
    "sec = [\"agri\", \"manu\", \"serv\"]\n",
    "sc = [1, 2, 3]\n",
    "sam = [\n",
    "    260     320     150     missing missing 635\n",
    "    345     390     390     missing missing 600\n",
    "    400     365     320     missing missing 385\n",
    "    200     250     400     missing missing missing\n",
    "    160     400     210     missing missing missing\n",
    "    missing missing missing 850     770     missing \n",
    "]\n",
    "samList = [\"agri\", \"manu\", \"serv\", \"lab\", \"cap\", \"hh\"]\n",
    "\n",
    "qint0 = sam[sc, sc]\n",
    "k0 = sam[length(sc) + 2, sc]\n",
    "l0 = sam[length(sc) + 1, sc]\n",
    "ks = sum(k0)\n",
    "ls = sum(l0)\n",
    "va0 = k0 + l0\n",
    "ak = k0 ./ va0\n",
    "al = l0 ./ va0\n",
    "\n",
    "tint0 = sum(qint0, dims=1)[1, :]\n",
    "aint = qint0 ./ (sum(qint0, dims=1))\n",
    "\n",
    "q0 = tint0 + va0\n",
    "atint = tint0 ./ q0\n",
    "ava = va0 ./ q0\n",
    "\n",
    "ks = sum(k0)\n",
    "ls = sum(l0)\n",
    "y0 = ks + ls\n",
    "qh0 = sam[sc, 6]\n",
    "alphah = qh0 ./ y0\n",
    "\n",
    "rho = 0.6\n"
   ]
  },
  {
   "cell_type": "markdown",
   "id": "7e4736bc",
   "metadata": {},
   "source": [
    "# 3. Generate CGE Model"
   ]
  },
  {
   "cell_type": "code",
   "execution_count": null,
   "id": "ba11c424",
   "metadata": {},
   "outputs": [],
   "source": [
    "function solve_cge()\n",
    "    m = MCPModel()\n",
    "    wl = 1\n",
    "    @variables m begin\n",
    "        p[i = sc], (start = 1)\n",
    "        wk, (start = 1) \n",
    "        # wl, (start = 1)\n",
    "        pint[i = sc], (start = 1)\n",
    "        pva[i = sc], (start = 1)\n",
    "        q[i = sc], (start = q0[i])\n",
    "        tint[i = sc], (start = tint0[i])\n",
    "        va[i = sc], (start = va0[i])\n",
    "        k[i = sc], (start = k0[i])\n",
    "        l[i = sc], (start = k0[i])\n",
    "        qint[j = sc, i = sc], (start = qint0[j, i])\n",
    "        qh[i = sc], (start=qh0[i])\n",
    "        y, (start=y0)\n",
    "        walras, (start=0)\n",
    "    end\n",
    "    # tint + va = q\n",
    "    @mapping(m, eqtint[i in sc], tint[i] - atint[i] * q[i])\n",
    "    @complementarity(m, eqtint, tint)\n",
    "\n",
    "    @mapping(m, eqva[i in sc], va[i] - ava[i] * q[i])\n",
    "    @complementarity(m, eqva, va)\n",
    "\n",
    "    @mapping(m, eqp[i in sc], atint[i] * pint[i] + ava[i] * pva[i] - p[i])\n",
    "    @complementarity(m, eqp, p)\n",
    "\n",
    "    # k + l = va\n",
    "    @mapping(m, eqk[i in sc], k[i] * wk ^ rho - ak[i] * va[i] * pva[i] ^ rho)\n",
    "    @complementarity(m, eqk, k)\n",
    "\n",
    "    @mapping(m, eql[i in sc], l[i] * wl ^ rho - al[i] * va[i] * pva[i] ^ rho)\n",
    "    @complementarity(m, eql, l)\n",
    "\n",
    "    @mapping(m, eqpva[i in sc], al[i] * wl ^ (1 - rho) + ak[i] * wk ^ (1 - rho) - pva[i] ^ (1 - rho))\n",
    "    @complementarity(m, eqpva, pva)\n",
    "\n",
    "    # xigma qint = tint\n",
    "    @mapping(m, eqint[j in sc, i in sc], qint[j, i] - aint[j, i] * tint[i])\n",
    "    @complementarity(m, eqint, qint)\n",
    "\n",
    "    @mapping(m, eqpint[i in sc], sum(aint[j, i] * p[j] for j in sc) - pint[i])\n",
    "    @complementarity(m, eqpint, pint)\n",
    "\n",
    "    # income\n",
    "    @mapping(m, eqy, y - (wl * ls + wk * ks))\n",
    "    @complementarity(m, eqy, y)\n",
    "\n",
    "    # demand\n",
    "    @mapping(m, eqqh[i in sc], alphah[i] * y - p[i] * qh[i])\n",
    "    @complementarity(m, eqqh, qh)\n",
    "\n",
    "    # demand - supply\n",
    "    @mapping(m, eqq[i in sc], q[i] - (qh[i] + sum(qint[i, j] for j in sc)))\n",
    "    @complementarity(m, eqq, q)\n",
    "\n",
    "    # factor supply\n",
    "    @mapping(m, eqwk, ks - sum(k[i] for i in sc))\n",
    "    @complementarity(m, eqwk, wk)\n",
    "\n",
    "    @mapping(m, eqwl, ls + walras - sum(l[i] for i in sc))\n",
    "    @complementarity(m, eqwl, walras)\n",
    "\n",
    "    # Model Solver\n",
    "    status = solveMCP(m; convergence_tolerance=1e-8, output=\"yes\", ITERATION_LIMIT=10000)\n",
    "    @show result_value.(walras)\n",
    "end"
   ]
  },
  {
   "cell_type": "code",
   "execution_count": null,
   "id": "686be546",
   "metadata": {},
   "outputs": [],
   "source": [
    "solve_cge()"
   ]
  },
  {
   "cell_type": "markdown",
   "id": "3ea9f7ed",
   "metadata": {},
   "source": [
    "# second experiment by adjusting the supply of labor and capital"
   ]
  },
  {
   "cell_type": "code",
   "execution_count": null,
   "id": "7a3a3689",
   "metadata": {},
   "outputs": [],
   "source": [
    "ls = sum(l0) * 2\n",
    "ks = sum(k0) * 0.8\n",
    "solve_cge()"
   ]
  }
 ],
 "metadata": {
  "kernelspec": {
   "display_name": "Julia 1.9.4",
   "language": "julia",
   "name": "julia-1.9"
  },
  "language_info": {
   "file_extension": ".jl",
   "mimetype": "application/julia",
   "name": "julia",
   "version": "1.9.4"
  },
  "toc": {
   "base_numbering": 1,
   "nav_menu": {},
   "number_sections": true,
   "sideBar": true,
   "skip_h1_title": false,
   "title_cell": "Table of Contents",
   "title_sidebar": "Contents",
   "toc_cell": false,
   "toc_position": {
    "height": "calc(100% - 180px)",
    "left": "10px",
    "top": "150px",
    "width": "185px"
   },
   "toc_section_display": true,
   "toc_window_display": true
  },
  "vscode": {
   "interpreter": {
    "hash": "bbf25602a3d8795db9f3a468a9130adfcace0885c5d3e34b41391447488e8ce4"
   }
  }
 },
 "nbformat": 4,
 "nbformat_minor": 5
}
